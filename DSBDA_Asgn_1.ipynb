{
  "nbformat": 4,
  "nbformat_minor": 0,
  "metadata": {
    "colab": {
      "provenance": []
    },
    "kernelspec": {
      "name": "python3",
      "display_name": "Python 3"
    },
    "language_info": {
      "name": "python"
    }
  },
  "cells": [
    {
      "cell_type": "code",
      "execution_count": null,
      "metadata": {
        "id": "w44gvEYjwyTn"
      },
      "outputs": [],
      "source": [
        "import numpy as np\n",
        "import pandas as pd\n",
        "import matplotlib.pyplot as plt"
      ]
    },
    {
      "cell_type": "code",
      "source": [
        "data = pd.read_csv(\"https://raw.githubusercontent.com/chitoge729/Datasets/main/hotel_bookings.csv\")"
      ],
      "metadata": {
        "id": "4EJlFWA1w37D"
      },
      "execution_count": null,
      "outputs": []
    },
    {
      "cell_type": "code",
      "source": [
        "data.describe()"
      ],
      "metadata": {
        "id": "QMExAKS0zFWh"
      },
      "execution_count": null,
      "outputs": []
    },
    {
      "cell_type": "code",
      "source": [
        "data.isnull()"
      ],
      "metadata": {
        "id": "1_MXbx5ozctc"
      },
      "execution_count": null,
      "outputs": []
    },
    {
      "cell_type": "code",
      "source": [
        "data.head()"
      ],
      "metadata": {
        "id": "P8kancRXzfHc"
      },
      "execution_count": null,
      "outputs": []
    },
    {
      "cell_type": "code",
      "source": [
        "data.columns"
      ],
      "metadata": {
        "id": "AzufifCXzldo"
      },
      "execution_count": null,
      "outputs": []
    },
    {
      "cell_type": "code",
      "source": [
        "data.hotel"
      ],
      "metadata": {
        "id": "63G-Tlbz0GKw"
      },
      "execution_count": null,
      "outputs": []
    },
    {
      "cell_type": "code",
      "source": [
        "data.dtypes"
      ],
      "metadata": {
        "id": "UmiZ913l0RZY"
      },
      "execution_count": null,
      "outputs": []
    },
    {
      "cell_type": "code",
      "source": [
        "data.notnull()"
      ],
      "metadata": {
        "id": "R0wW03eE2MSG"
      },
      "execution_count": null,
      "outputs": []
    },
    {
      "cell_type": "code",
      "source": [
        "data.head(50)"
      ],
      "metadata": {
        "id": "YGPdaayu2jwh"
      },
      "execution_count": null,
      "outputs": []
    },
    {
      "cell_type": "code",
      "source": [
        "data.tail(50)"
      ],
      "metadata": {
        "id": "orDZ39KV26Z8"
      },
      "execution_count": null,
      "outputs": []
    },
    {
      "cell_type": "code",
      "source": [
        "data.isna()"
      ],
      "metadata": {
        "id": "rpLUYHEs29bO"
      },
      "execution_count": null,
      "outputs": []
    },
    {
      "cell_type": "code",
      "source": [
        "data.loc[23:217]"
      ],
      "metadata": {
        "id": "tibHQAh23fFp"
      },
      "execution_count": null,
      "outputs": []
    },
    {
      "cell_type": "code",
      "source": [],
      "metadata": {
        "id": "mALlwyK564yV"
      },
      "execution_count": null,
      "outputs": []
    },
    {
      "cell_type": "code",
      "source": [
        "data.iloc[23:217]"
      ],
      "metadata": {
        "id": "Pn45LZ-H8HQP"
      },
      "execution_count": null,
      "outputs": []
    },
    {
      "cell_type": "code",
      "source": [
        "data_new = data.loc[23:217]\n",
        "data_new"
      ],
      "metadata": {
        "id": "uLdI32vU8I_H"
      },
      "execution_count": null,
      "outputs": []
    },
    {
      "cell_type": "code",
      "source": [
        "data.info()"
      ],
      "metadata": {
        "id": "rIdZh8bd8iA3"
      },
      "execution_count": null,
      "outputs": []
    },
    {
      "cell_type": "code",
      "source": [
        "data_new.info()"
      ],
      "metadata": {
        "id": "y_AaQU1b8y-X"
      },
      "execution_count": null,
      "outputs": []
    },
    {
      "cell_type": "code",
      "source": [
        "data.info     #Gives dataset info"
      ],
      "metadata": {
        "id": "e1NGFm359QJF"
      },
      "execution_count": null,
      "outputs": []
    },
    {
      "cell_type": "code",
      "source": [
        "data_new.info()     #Gives dataset structure"
      ],
      "metadata": {
        "id": "UzDkKo909YrU"
      },
      "execution_count": null,
      "outputs": []
    },
    {
      "cell_type": "code",
      "source": [
        "data_new.hotel   #To display columns"
      ],
      "metadata": {
        "id": "VtlVwMk79yWK"
      },
      "execution_count": null,
      "outputs": []
    },
    {
      "cell_type": "code",
      "source": [
        "data_new[\"hotel\"]    #To display particular columns"
      ],
      "metadata": {
        "id": "6H92XvHO-BCC"
      },
      "execution_count": null,
      "outputs": []
    },
    {
      "cell_type": "code",
      "source": [
        "data_new[['hotel','meal']]   #To display particular columns"
      ],
      "metadata": {
        "id": "C94vWIXh-FDS"
      },
      "execution_count": null,
      "outputs": []
    },
    {
      "cell_type": "code",
      "source": [
        "list1 = ['hotel', 'meal']"
      ],
      "metadata": {
        "id": "Kk4mzAjX-M1I"
      },
      "execution_count": null,
      "outputs": []
    },
    {
      "cell_type": "code",
      "source": [
        "data_new[list1]"
      ],
      "metadata": {
        "id": "_D4MwKlzCfr9"
      },
      "execution_count": null,
      "outputs": []
    },
    {
      "cell_type": "code",
      "source": [
        "data_new_rc = data.iloc[12:45, 1:6]     #create data_frame for particular rows and columns\n",
        "data_new_rc"
      ],
      "metadata": {
        "id": "I7Y0uoJDCw79"
      },
      "execution_count": null,
      "outputs": []
    },
    {
      "cell_type": "code",
      "source": [
        "data_new_rc.info()"
      ],
      "metadata": {
        "id": "UjuZ-ApcFDHc"
      },
      "execution_count": null,
      "outputs": []
    },
    {
      "cell_type": "code",
      "source": [
        "data= data.drop(['arrival_date_year'], axis=1)\n",
        "data"
      ],
      "metadata": {
        "id": "FB7mq4DIGaYj"
      },
      "execution_count": null,
      "outputs": []
    },
    {
      "cell_type": "code",
      "source": [
        "data['hotel']='Resort Hotel'"
      ],
      "metadata": {
        "id": "gtCU3pKlIp1a"
      },
      "execution_count": null,
      "outputs": []
    },
    {
      "cell_type": "code",
      "source": [
        "data['age']=55"
      ],
      "metadata": {
        "id": "OjhhNh0LI9sD"
      },
      "execution_count": null,
      "outputs": []
    },
    {
      "cell_type": "code",
      "source": [
        "data['family'] = data['age'] + 34"
      ],
      "metadata": {
        "id": "UQsyB5JNJFNs"
      },
      "execution_count": null,
      "outputs": []
    },
    {
      "cell_type": "code",
      "source": [
        "data"
      ],
      "metadata": {
        "id": "cNdPDMQmK5FJ"
      },
      "execution_count": null,
      "outputs": []
    },
    {
      "cell_type": "code",
      "source": [
        "data['age'].dtypes"
      ],
      "metadata": {
        "id": "qN_B5HAtLFhZ"
      },
      "execution_count": null,
      "outputs": []
    },
    {
      "cell_type": "code",
      "source": [
        "data['Arrival'] = np.where(data['lead_time']<50, 'On time', 'Late')\n",
        "data"
      ],
      "metadata": {
        "id": "PnY9_CKPL7Ts"
      },
      "execution_count": null,
      "outputs": []
    },
    {
      "cell_type": "code",
      "source": [
        "data['adr'].unique"
      ],
      "metadata": {
        "id": "rjrJdIl0MyPM"
      },
      "execution_count": null,
      "outputs": []
    },
    {
      "cell_type": "code",
      "source": [
        "data['lead_time']>23"
      ],
      "metadata": {
        "id": "lXEHAC8AM7DC"
      },
      "execution_count": null,
      "outputs": []
    },
    {
      "cell_type": "code",
      "source": [
        "data.lead_time>23"
      ],
      "metadata": {
        "id": "CWx6R3rxNspC"
      },
      "execution_count": null,
      "outputs": []
    },
    {
      "cell_type": "code",
      "source": [
        "data[data['lead_time']>23]     #To display particular data according to the condition"
      ],
      "metadata": {
        "id": "TrsPQ8dPOisV"
      },
      "execution_count": null,
      "outputs": []
    },
    {
      "cell_type": "code",
      "source": [
        "data_pc = data[(data['lead_time']>200) | (data['lead_time']<20)]       # \\ for OR   & for AND\n",
        "data_pc"
      ],
      "metadata": {
        "id": "ot9okRR2PNKe"
      },
      "execution_count": null,
      "outputs": []
    },
    {
      "cell_type": "code",
      "source": [
        "def func1(woohoo):\n",
        "  woohoo=woohoo*2\n",
        "  return woohoo\n"
      ],
      "metadata": {
        "id": "VJbaXBBQPx7f"
      },
      "execution_count": null,
      "outputs": []
    },
    {
      "cell_type": "code",
      "source": [
        "data['lead_time']=data['lead_time'].apply(func1)\n",
        "data"
      ],
      "metadata": {
        "id": "z7fVYz77TVuP"
      },
      "execution_count": null,
      "outputs": []
    },
    {
      "cell_type": "code",
      "source": [
        "data['age'] = data['age'].apply(lambda x: x*2)\n",
        "data"
      ],
      "metadata": {
        "id": "YNtB3DRfTfFt"
      },
      "execution_count": null,
      "outputs": []
    },
    {
      "cell_type": "code",
      "source": [
        "data['Arrival'] = data['Arrival'].map({'On time': 0, 'Late': 1})\n",
        "data"
      ],
      "metadata": {
        "id": "TRKG_XZ0WVll"
      },
      "execution_count": null,
      "outputs": []
    },
    {
      "cell_type": "code",
      "source": [],
      "metadata": {
        "id": "o038xibiYTMw"
      },
      "execution_count": null,
      "outputs": []
    }
  ]
}