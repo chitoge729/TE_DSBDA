{
  "nbformat": 4,
  "nbformat_minor": 0,
  "metadata": {
    "colab": {
      "provenance": [],
      "authorship_tag": "ABX9TyPRrjgkwRHbN/qqQqb2TOcX",
      "include_colab_link": true
    },
    "kernelspec": {
      "name": "python3",
      "display_name": "Python 3"
    },
    "language_info": {
      "name": "python"
    }
  },
  "cells": [
    {
      "cell_type": "markdown",
      "metadata": {
        "id": "view-in-github",
        "colab_type": "text"
      },
      "source": [
        "<a href=\"https://colab.research.google.com/github/chitoge729/TE_DSBDA/blob/main/DSBDA_Asgn_7.ipynb\" target=\"_parent\"><img src=\"https://colab.research.google.com/assets/colab-badge.svg\" alt=\"Open In Colab\"/></a>"
      ]
    },
    {
      "cell_type": "code",
      "execution_count": 5,
      "metadata": {
        "colab": {
          "base_uri": "https://localhost:8080/"
        },
        "id": "UdBlSjIjdo3H",
        "outputId": "15c31c1b-9c66-4fce-ac8d-6641c92e615d"
      },
      "outputs": [
        {
          "output_type": "stream",
          "name": "stderr",
          "text": [
            "[nltk_data] Downloading collection 'all'\n",
            "[nltk_data]    | \n",
            "[nltk_data]    | Downloading package abc to /root/nltk_data...\n",
            "[nltk_data]    |   Unzipping corpora/abc.zip.\n",
            "[nltk_data]    | Downloading package alpino to /root/nltk_data...\n",
            "[nltk_data]    |   Unzipping corpora/alpino.zip.\n",
            "[nltk_data]    | Downloading package averaged_perceptron_tagger to\n",
            "[nltk_data]    |     /root/nltk_data...\n",
            "[nltk_data]    |   Unzipping taggers/averaged_perceptron_tagger.zip.\n",
            "[nltk_data]    | Downloading package averaged_perceptron_tagger_ru to\n",
            "[nltk_data]    |     /root/nltk_data...\n",
            "[nltk_data]    |   Unzipping\n",
            "[nltk_data]    |       taggers/averaged_perceptron_tagger_ru.zip.\n",
            "[nltk_data]    | Downloading package basque_grammars to\n",
            "[nltk_data]    |     /root/nltk_data...\n",
            "[nltk_data]    |   Unzipping grammars/basque_grammars.zip.\n",
            "[nltk_data]    | Downloading package bcp47 to /root/nltk_data...\n",
            "[nltk_data]    | Downloading package biocreative_ppi to\n",
            "[nltk_data]    |     /root/nltk_data...\n",
            "[nltk_data]    |   Unzipping corpora/biocreative_ppi.zip.\n",
            "[nltk_data]    | Downloading package bllip_wsj_no_aux to\n",
            "[nltk_data]    |     /root/nltk_data...\n",
            "[nltk_data]    |   Unzipping models/bllip_wsj_no_aux.zip.\n",
            "[nltk_data]    | Downloading package book_grammars to\n",
            "[nltk_data]    |     /root/nltk_data...\n",
            "[nltk_data]    |   Unzipping grammars/book_grammars.zip.\n",
            "[nltk_data]    | Downloading package brown to /root/nltk_data...\n",
            "[nltk_data]    |   Unzipping corpora/brown.zip.\n",
            "[nltk_data]    | Downloading package brown_tei to /root/nltk_data...\n",
            "[nltk_data]    |   Unzipping corpora/brown_tei.zip.\n",
            "[nltk_data]    | Downloading package cess_cat to /root/nltk_data...\n",
            "[nltk_data]    |   Unzipping corpora/cess_cat.zip.\n",
            "[nltk_data]    | Downloading package cess_esp to /root/nltk_data...\n",
            "[nltk_data]    |   Unzipping corpora/cess_esp.zip.\n",
            "[nltk_data]    | Downloading package chat80 to /root/nltk_data...\n",
            "[nltk_data]    |   Unzipping corpora/chat80.zip.\n",
            "[nltk_data]    | Downloading package city_database to\n",
            "[nltk_data]    |     /root/nltk_data...\n",
            "[nltk_data]    |   Unzipping corpora/city_database.zip.\n",
            "[nltk_data]    | Downloading package cmudict to /root/nltk_data...\n",
            "[nltk_data]    |   Unzipping corpora/cmudict.zip.\n",
            "[nltk_data]    | Downloading package comparative_sentences to\n",
            "[nltk_data]    |     /root/nltk_data...\n",
            "[nltk_data]    |   Unzipping corpora/comparative_sentences.zip.\n",
            "[nltk_data]    | Downloading package comtrans to /root/nltk_data...\n",
            "[nltk_data]    | Downloading package conll2000 to /root/nltk_data...\n",
            "[nltk_data]    |   Unzipping corpora/conll2000.zip.\n",
            "[nltk_data]    | Downloading package conll2002 to /root/nltk_data...\n",
            "[nltk_data]    |   Unzipping corpora/conll2002.zip.\n",
            "[nltk_data]    | Downloading package conll2007 to /root/nltk_data...\n",
            "[nltk_data]    | Downloading package crubadan to /root/nltk_data...\n",
            "[nltk_data]    |   Unzipping corpora/crubadan.zip.\n",
            "[nltk_data]    | Downloading package dependency_treebank to\n",
            "[nltk_data]    |     /root/nltk_data...\n",
            "[nltk_data]    |   Unzipping corpora/dependency_treebank.zip.\n",
            "[nltk_data]    | Downloading package dolch to /root/nltk_data...\n",
            "[nltk_data]    |   Unzipping corpora/dolch.zip.\n",
            "[nltk_data]    | Downloading package europarl_raw to\n",
            "[nltk_data]    |     /root/nltk_data...\n",
            "[nltk_data]    |   Unzipping corpora/europarl_raw.zip.\n",
            "[nltk_data]    | Downloading package extended_omw to\n",
            "[nltk_data]    |     /root/nltk_data...\n",
            "[nltk_data]    | Downloading package floresta to /root/nltk_data...\n",
            "[nltk_data]    |   Unzipping corpora/floresta.zip.\n",
            "[nltk_data]    | Downloading package framenet_v15 to\n",
            "[nltk_data]    |     /root/nltk_data...\n",
            "[nltk_data]    |   Unzipping corpora/framenet_v15.zip.\n",
            "[nltk_data]    | Downloading package framenet_v17 to\n",
            "[nltk_data]    |     /root/nltk_data...\n",
            "[nltk_data]    |   Unzipping corpora/framenet_v17.zip.\n",
            "[nltk_data]    | Downloading package gazetteers to /root/nltk_data...\n",
            "[nltk_data]    |   Unzipping corpora/gazetteers.zip.\n",
            "[nltk_data]    | Downloading package genesis to /root/nltk_data...\n",
            "[nltk_data]    |   Unzipping corpora/genesis.zip.\n",
            "[nltk_data]    | Downloading package gutenberg to /root/nltk_data...\n",
            "[nltk_data]    |   Unzipping corpora/gutenberg.zip.\n",
            "[nltk_data]    | Downloading package ieer to /root/nltk_data...\n",
            "[nltk_data]    |   Unzipping corpora/ieer.zip.\n",
            "[nltk_data]    | Downloading package inaugural to /root/nltk_data...\n",
            "[nltk_data]    |   Unzipping corpora/inaugural.zip.\n",
            "[nltk_data]    | Downloading package indian to /root/nltk_data...\n",
            "[nltk_data]    |   Unzipping corpora/indian.zip.\n",
            "[nltk_data]    | Downloading package jeita to /root/nltk_data...\n",
            "[nltk_data]    | Downloading package kimmo to /root/nltk_data...\n",
            "[nltk_data]    |   Unzipping corpora/kimmo.zip.\n",
            "[nltk_data]    | Downloading package knbc to /root/nltk_data...\n",
            "[nltk_data]    | Downloading package large_grammars to\n",
            "[nltk_data]    |     /root/nltk_data...\n",
            "[nltk_data]    |   Unzipping grammars/large_grammars.zip.\n",
            "[nltk_data]    | Downloading package lin_thesaurus to\n",
            "[nltk_data]    |     /root/nltk_data...\n",
            "[nltk_data]    |   Unzipping corpora/lin_thesaurus.zip.\n",
            "[nltk_data]    | Downloading package mac_morpho to /root/nltk_data...\n",
            "[nltk_data]    |   Unzipping corpora/mac_morpho.zip.\n",
            "[nltk_data]    | Downloading package machado to /root/nltk_data...\n",
            "[nltk_data]    | Downloading package masc_tagged to /root/nltk_data...\n",
            "[nltk_data]    | Downloading package maxent_ne_chunker to\n",
            "[nltk_data]    |     /root/nltk_data...\n",
            "[nltk_data]    |   Unzipping chunkers/maxent_ne_chunker.zip.\n",
            "[nltk_data]    | Downloading package maxent_treebank_pos_tagger to\n",
            "[nltk_data]    |     /root/nltk_data...\n",
            "[nltk_data]    |   Unzipping taggers/maxent_treebank_pos_tagger.zip.\n",
            "[nltk_data]    | Downloading package moses_sample to\n",
            "[nltk_data]    |     /root/nltk_data...\n",
            "[nltk_data]    |   Unzipping models/moses_sample.zip.\n",
            "[nltk_data]    | Downloading package movie_reviews to\n",
            "[nltk_data]    |     /root/nltk_data...\n",
            "[nltk_data]    |   Unzipping corpora/movie_reviews.zip.\n",
            "[nltk_data]    | Downloading package mte_teip5 to /root/nltk_data...\n",
            "[nltk_data]    |   Unzipping corpora/mte_teip5.zip.\n",
            "[nltk_data]    | Downloading package mwa_ppdb to /root/nltk_data...\n",
            "[nltk_data]    |   Unzipping misc/mwa_ppdb.zip.\n",
            "[nltk_data]    | Downloading package names to /root/nltk_data...\n",
            "[nltk_data]    |   Unzipping corpora/names.zip.\n",
            "[nltk_data]    | Downloading package nombank.1.0 to /root/nltk_data...\n",
            "[nltk_data]    | Downloading package nonbreaking_prefixes to\n",
            "[nltk_data]    |     /root/nltk_data...\n",
            "[nltk_data]    |   Unzipping corpora/nonbreaking_prefixes.zip.\n",
            "[nltk_data]    | Downloading package nps_chat to /root/nltk_data...\n",
            "[nltk_data]    |   Unzipping corpora/nps_chat.zip.\n",
            "[nltk_data]    | Downloading package omw to /root/nltk_data...\n",
            "[nltk_data]    | Downloading package omw-1.4 to /root/nltk_data...\n",
            "[nltk_data]    | Downloading package opinion_lexicon to\n",
            "[nltk_data]    |     /root/nltk_data...\n",
            "[nltk_data]    |   Unzipping corpora/opinion_lexicon.zip.\n",
            "[nltk_data]    | Downloading package panlex_swadesh to\n",
            "[nltk_data]    |     /root/nltk_data...\n",
            "[nltk_data]    | Downloading package paradigms to /root/nltk_data...\n",
            "[nltk_data]    |   Unzipping corpora/paradigms.zip.\n",
            "[nltk_data]    | Downloading package pe08 to /root/nltk_data...\n",
            "[nltk_data]    |   Unzipping corpora/pe08.zip.\n",
            "[nltk_data]    | Downloading package perluniprops to\n",
            "[nltk_data]    |     /root/nltk_data...\n",
            "[nltk_data]    |   Unzipping misc/perluniprops.zip.\n",
            "[nltk_data]    | Downloading package pil to /root/nltk_data...\n",
            "[nltk_data]    |   Unzipping corpora/pil.zip.\n",
            "[nltk_data]    | Downloading package pl196x to /root/nltk_data...\n",
            "[nltk_data]    |   Unzipping corpora/pl196x.zip.\n",
            "[nltk_data]    | Downloading package porter_test to /root/nltk_data...\n",
            "[nltk_data]    |   Unzipping stemmers/porter_test.zip.\n",
            "[nltk_data]    | Downloading package ppattach to /root/nltk_data...\n",
            "[nltk_data]    |   Unzipping corpora/ppattach.zip.\n",
            "[nltk_data]    | Downloading package problem_reports to\n",
            "[nltk_data]    |     /root/nltk_data...\n",
            "[nltk_data]    |   Unzipping corpora/problem_reports.zip.\n",
            "[nltk_data]    | Downloading package product_reviews_1 to\n",
            "[nltk_data]    |     /root/nltk_data...\n",
            "[nltk_data]    |   Unzipping corpora/product_reviews_1.zip.\n",
            "[nltk_data]    | Downloading package product_reviews_2 to\n",
            "[nltk_data]    |     /root/nltk_data...\n",
            "[nltk_data]    |   Unzipping corpora/product_reviews_2.zip.\n",
            "[nltk_data]    | Downloading package propbank to /root/nltk_data...\n",
            "[nltk_data]    | Downloading package pros_cons to /root/nltk_data...\n",
            "[nltk_data]    |   Unzipping corpora/pros_cons.zip.\n",
            "[nltk_data]    | Downloading package ptb to /root/nltk_data...\n",
            "[nltk_data]    |   Unzipping corpora/ptb.zip.\n",
            "[nltk_data]    | Downloading package punkt to /root/nltk_data...\n",
            "[nltk_data]    |   Unzipping tokenizers/punkt.zip.\n",
            "[nltk_data]    | Downloading package qc to /root/nltk_data...\n",
            "[nltk_data]    |   Unzipping corpora/qc.zip.\n",
            "[nltk_data]    | Downloading package reuters to /root/nltk_data...\n",
            "[nltk_data]    | Downloading package rslp to /root/nltk_data...\n",
            "[nltk_data]    |   Unzipping stemmers/rslp.zip.\n",
            "[nltk_data]    | Downloading package rte to /root/nltk_data...\n",
            "[nltk_data]    |   Unzipping corpora/rte.zip.\n",
            "[nltk_data]    | Downloading package sample_grammars to\n",
            "[nltk_data]    |     /root/nltk_data...\n",
            "[nltk_data]    |   Unzipping grammars/sample_grammars.zip.\n",
            "[nltk_data]    | Downloading package semcor to /root/nltk_data...\n",
            "[nltk_data]    | Downloading package senseval to /root/nltk_data...\n",
            "[nltk_data]    |   Unzipping corpora/senseval.zip.\n",
            "[nltk_data]    | Downloading package sentence_polarity to\n",
            "[nltk_data]    |     /root/nltk_data...\n",
            "[nltk_data]    |   Unzipping corpora/sentence_polarity.zip.\n",
            "[nltk_data]    | Downloading package sentiwordnet to\n",
            "[nltk_data]    |     /root/nltk_data...\n",
            "[nltk_data]    |   Unzipping corpora/sentiwordnet.zip.\n",
            "[nltk_data]    | Downloading package shakespeare to /root/nltk_data...\n",
            "[nltk_data]    |   Unzipping corpora/shakespeare.zip.\n",
            "[nltk_data]    | Downloading package sinica_treebank to\n",
            "[nltk_data]    |     /root/nltk_data...\n",
            "[nltk_data]    |   Unzipping corpora/sinica_treebank.zip.\n",
            "[nltk_data]    | Downloading package smultron to /root/nltk_data...\n",
            "[nltk_data]    |   Unzipping corpora/smultron.zip.\n",
            "[nltk_data]    | Downloading package snowball_data to\n",
            "[nltk_data]    |     /root/nltk_data...\n",
            "[nltk_data]    | Downloading package spanish_grammars to\n",
            "[nltk_data]    |     /root/nltk_data...\n",
            "[nltk_data]    |   Unzipping grammars/spanish_grammars.zip.\n",
            "[nltk_data]    | Downloading package state_union to /root/nltk_data...\n",
            "[nltk_data]    |   Unzipping corpora/state_union.zip.\n",
            "[nltk_data]    | Downloading package stopwords to /root/nltk_data...\n",
            "[nltk_data]    |   Unzipping corpora/stopwords.zip.\n",
            "[nltk_data]    | Downloading package subjectivity to\n",
            "[nltk_data]    |     /root/nltk_data...\n",
            "[nltk_data]    |   Unzipping corpora/subjectivity.zip.\n",
            "[nltk_data]    | Downloading package swadesh to /root/nltk_data...\n",
            "[nltk_data]    |   Unzipping corpora/swadesh.zip.\n",
            "[nltk_data]    | Downloading package switchboard to /root/nltk_data...\n",
            "[nltk_data]    |   Unzipping corpora/switchboard.zip.\n",
            "[nltk_data]    | Downloading package tagsets to /root/nltk_data...\n",
            "[nltk_data]    |   Unzipping help/tagsets.zip.\n",
            "[nltk_data]    | Downloading package timit to /root/nltk_data...\n",
            "[nltk_data]    |   Unzipping corpora/timit.zip.\n",
            "[nltk_data]    | Downloading package toolbox to /root/nltk_data...\n",
            "[nltk_data]    |   Unzipping corpora/toolbox.zip.\n",
            "[nltk_data]    | Downloading package treebank to /root/nltk_data...\n",
            "[nltk_data]    |   Unzipping corpora/treebank.zip.\n",
            "[nltk_data]    | Downloading package twitter_samples to\n",
            "[nltk_data]    |     /root/nltk_data...\n",
            "[nltk_data]    |   Unzipping corpora/twitter_samples.zip.\n",
            "[nltk_data]    | Downloading package udhr to /root/nltk_data...\n",
            "[nltk_data]    |   Unzipping corpora/udhr.zip.\n",
            "[nltk_data]    | Downloading package udhr2 to /root/nltk_data...\n",
            "[nltk_data]    |   Unzipping corpora/udhr2.zip.\n",
            "[nltk_data]    | Downloading package unicode_samples to\n",
            "[nltk_data]    |     /root/nltk_data...\n",
            "[nltk_data]    |   Unzipping corpora/unicode_samples.zip.\n",
            "[nltk_data]    | Downloading package universal_tagset to\n",
            "[nltk_data]    |     /root/nltk_data...\n",
            "[nltk_data]    |   Unzipping taggers/universal_tagset.zip.\n",
            "[nltk_data]    | Downloading package universal_treebanks_v20 to\n",
            "[nltk_data]    |     /root/nltk_data...\n",
            "[nltk_data]    | Downloading package vader_lexicon to\n",
            "[nltk_data]    |     /root/nltk_data...\n",
            "[nltk_data]    | Downloading package verbnet to /root/nltk_data...\n",
            "[nltk_data]    |   Unzipping corpora/verbnet.zip.\n",
            "[nltk_data]    | Downloading package verbnet3 to /root/nltk_data...\n",
            "[nltk_data]    |   Unzipping corpora/verbnet3.zip.\n",
            "[nltk_data]    | Downloading package webtext to /root/nltk_data...\n",
            "[nltk_data]    |   Unzipping corpora/webtext.zip.\n",
            "[nltk_data]    | Downloading package wmt15_eval to /root/nltk_data...\n",
            "[nltk_data]    |   Unzipping models/wmt15_eval.zip.\n",
            "[nltk_data]    | Downloading package word2vec_sample to\n",
            "[nltk_data]    |     /root/nltk_data...\n",
            "[nltk_data]    |   Unzipping models/word2vec_sample.zip.\n",
            "[nltk_data]    | Downloading package wordnet to /root/nltk_data...\n",
            "[nltk_data]    | Downloading package wordnet2021 to /root/nltk_data...\n",
            "[nltk_data]    | Downloading package wordnet2022 to /root/nltk_data...\n",
            "[nltk_data]    |   Unzipping corpora/wordnet2022.zip.\n",
            "[nltk_data]    | Downloading package wordnet31 to /root/nltk_data...\n",
            "[nltk_data]    | Downloading package wordnet_ic to /root/nltk_data...\n",
            "[nltk_data]    |   Unzipping corpora/wordnet_ic.zip.\n",
            "[nltk_data]    | Downloading package words to /root/nltk_data...\n",
            "[nltk_data]    |   Unzipping corpora/words.zip.\n",
            "[nltk_data]    | Downloading package ycoe to /root/nltk_data...\n",
            "[nltk_data]    |   Unzipping corpora/ycoe.zip.\n",
            "[nltk_data]    | \n",
            "[nltk_data]  Done downloading collection all\n"
          ]
        }
      ],
      "source": [
        "import nltk\n",
        "nltk.download('all')\n",
        "from nltk.corpus import stopwords\n",
        "from nltk.tokenize import word_tokenize\n",
        "from nltk.stem import PorterStemmer, WordNetLemmatizer\n",
        "from nltk import pos_tag\n",
        "from sklearn.feature_extraction.text import TfidfVectorizer"
      ]
    },
    {
      "cell_type": "code",
      "source": [
        "document = \"The kids were loud. They were way too loud for Jerry, especially since this was a four-hour flight. The parents didn't seem to be able, or simply didn't want, to control them. They were yelling and fighting among themselves and it was impossible for any of the passengers to concentrate or rest. He thought about politely tapping on the parents' shoulders and asking them to try and get their kids under a bit more control, but before he did he came up with a better idea. Sure, it was a bit sinister, and he'd probably end p in a lot of trouble, but he really didn't care at that point.\""
      ],
      "metadata": {
        "id": "xEDFvg6AjBSl"
      },
      "execution_count": 3,
      "outputs": []
    },
    {
      "cell_type": "markdown",
      "source": [
        "Tokenize"
      ],
      "metadata": {
        "id": "OKtZxpMjlG12"
      }
    },
    {
      "cell_type": "code",
      "source": [
        "tokens = word_tokenize(document)\n",
        "print(tokens)"
      ],
      "metadata": {
        "colab": {
          "base_uri": "https://localhost:8080/"
        },
        "id": "_brak_MEjc8R",
        "outputId": "63dd2d65-cbb2-48fa-852a-067d66ad1acf"
      },
      "execution_count": 6,
      "outputs": [
        {
          "output_type": "stream",
          "name": "stdout",
          "text": [
            "['The', 'kids', 'were', 'loud', '.', 'They', 'were', 'way', 'too', 'loud', 'for', 'Jerry', ',', 'especially', 'since', 'this', 'was', 'a', 'four-hour', 'flight', '.', 'The', 'parents', 'did', \"n't\", 'seem', 'to', 'be', 'able', ',', 'or', 'simply', 'did', \"n't\", 'want', ',', 'to', 'control', 'them', '.', 'They', 'were', 'yelling', 'and', 'fighting', 'among', 'themselves', 'and', 'it', 'was', 'impossible', 'for', 'any', 'of', 'the', 'passengers', 'to', 'concentrate', 'or', 'rest', '.', 'He', 'thought', 'about', 'politely', 'tapping', 'on', 'the', 'parents', \"'\", 'shoulders', 'and', 'asking', 'them', 'to', 'try', 'and', 'get', 'their', 'kids', 'under', 'a', 'bit', 'more', 'control', ',', 'but', 'before', 'he', 'did', 'he', 'came', 'up', 'with', 'a', 'better', 'idea', '.', 'Sure', ',', 'it', 'was', 'a', 'bit', 'sinister', ',', 'and', 'he', \"'d\", 'probably', 'end', 'p', 'in', 'a', 'lot', 'of', 'trouble', ',', 'but', 'he', 'really', 'did', \"n't\", 'care', 'at', 'that', 'point', '.']\n"
          ]
        }
      ]
    },
    {
      "cell_type": "markdown",
      "source": [
        "Remove Stopwords"
      ],
      "metadata": {
        "id": "GdlG3pIvlKxH"
      }
    },
    {
      "cell_type": "code",
      "source": [
        "stop_words = set(stopwords.words('english'))\n",
        "filtered_tokens = [token for token in tokens if token.lower() not in stop_words]\n",
        "print(filtered_tokens)"
      ],
      "metadata": {
        "colab": {
          "base_uri": "https://localhost:8080/"
        },
        "id": "PbAiN9qHjzD2",
        "outputId": "4d16dfcd-fabe-4cff-fac5-d5ce31616f7a"
      },
      "execution_count": 8,
      "outputs": [
        {
          "output_type": "stream",
          "name": "stdout",
          "text": [
            "['kids', 'loud', '.', 'way', 'loud', 'Jerry', ',', 'especially', 'since', 'four-hour', 'flight', '.', 'parents', \"n't\", 'seem', 'able', ',', 'simply', \"n't\", 'want', ',', 'control', '.', 'yelling', 'fighting', 'among', 'impossible', 'passengers', 'concentrate', 'rest', '.', 'thought', 'politely', 'tapping', 'parents', \"'\", 'shoulders', 'asking', 'try', 'get', 'kids', 'bit', 'control', ',', 'came', 'better', 'idea', '.', 'Sure', ',', 'bit', 'sinister', ',', \"'d\", 'probably', 'end', 'p', 'lot', 'trouble', ',', 'really', \"n't\", 'care', 'point', '.']\n"
          ]
        }
      ]
    },
    {
      "cell_type": "markdown",
      "source": [
        "Stemming"
      ],
      "metadata": {
        "id": "g20S_azWlOJA"
      }
    },
    {
      "cell_type": "code",
      "source": [
        "stemmer = PorterStemmer()\n",
        "stemmed_tokens = [stemmer.stem(token) for token in filtered_tokens]\n",
        "print(stemmed_tokens)"
      ],
      "metadata": {
        "colab": {
          "base_uri": "https://localhost:8080/"
        },
        "id": "ChgaK3LHk9wW",
        "outputId": "a5a8cafa-3d77-4706-beaa-36041a3d1820"
      },
      "execution_count": 9,
      "outputs": [
        {
          "output_type": "stream",
          "name": "stdout",
          "text": [
            "['kid', 'loud', '.', 'way', 'loud', 'jerri', ',', 'especi', 'sinc', 'four-hour', 'flight', '.', 'parent', \"n't\", 'seem', 'abl', ',', 'simpli', \"n't\", 'want', ',', 'control', '.', 'yell', 'fight', 'among', 'imposs', 'passeng', 'concentr', 'rest', '.', 'thought', 'polit', 'tap', 'parent', \"'\", 'shoulder', 'ask', 'tri', 'get', 'kid', 'bit', 'control', ',', 'came', 'better', 'idea', '.', 'sure', ',', 'bit', 'sinist', ',', \"'d\", 'probabl', 'end', 'p', 'lot', 'troubl', ',', 'realli', \"n't\", 'care', 'point', '.']\n"
          ]
        }
      ]
    },
    {
      "cell_type": "markdown",
      "source": [
        "Lemmatization"
      ],
      "metadata": {
        "id": "cxc7LfO_l2wB"
      }
    },
    {
      "cell_type": "code",
      "source": [
        "lemmatizer = WordNetLemmatizer()\n",
        "lemmatized_tokens = [lemmatizer.lemmatize(token) for token in filtered_tokens]\n",
        "print(lemmatized_tokens)"
      ],
      "metadata": {
        "colab": {
          "base_uri": "https://localhost:8080/"
        },
        "id": "2c5XmIScluAv",
        "outputId": "a721613b-a789-4df0-ebbe-cf7ed372eee0"
      },
      "execution_count": 10,
      "outputs": [
        {
          "output_type": "stream",
          "name": "stdout",
          "text": [
            "['kid', 'loud', '.', 'way', 'loud', 'Jerry', ',', 'especially', 'since', 'four-hour', 'flight', '.', 'parent', \"n't\", 'seem', 'able', ',', 'simply', \"n't\", 'want', ',', 'control', '.', 'yelling', 'fighting', 'among', 'impossible', 'passenger', 'concentrate', 'rest', '.', 'thought', 'politely', 'tapping', 'parent', \"'\", 'shoulder', 'asking', 'try', 'get', 'kid', 'bit', 'control', ',', 'came', 'better', 'idea', '.', 'Sure', ',', 'bit', 'sinister', ',', \"'d\", 'probably', 'end', 'p', 'lot', 'trouble', ',', 'really', \"n't\", 'care', 'point', '.']\n"
          ]
        }
      ]
    },
    {
      "cell_type": "code",
      "source": [
        "pos_tags = pos_tag(tokens)\n",
        "print(pos_tags)"
      ],
      "metadata": {
        "colab": {
          "base_uri": "https://localhost:8080/"
        },
        "id": "bCmEsYq-mS5j",
        "outputId": "5e74140b-f0f8-495e-da4b-5562f51c3fad"
      },
      "execution_count": 11,
      "outputs": [
        {
          "output_type": "stream",
          "name": "stdout",
          "text": [
            "[('The', 'DT'), ('kids', 'NNS'), ('were', 'VBD'), ('loud', 'JJ'), ('.', '.'), ('They', 'PRP'), ('were', 'VBD'), ('way', 'NN'), ('too', 'RB'), ('loud', 'JJ'), ('for', 'IN'), ('Jerry', 'NNP'), (',', ','), ('especially', 'RB'), ('since', 'IN'), ('this', 'DT'), ('was', 'VBD'), ('a', 'DT'), ('four-hour', 'JJ'), ('flight', 'NN'), ('.', '.'), ('The', 'DT'), ('parents', 'NNS'), ('did', 'VBD'), (\"n't\", 'RB'), ('seem', 'VB'), ('to', 'TO'), ('be', 'VB'), ('able', 'JJ'), (',', ','), ('or', 'CC'), ('simply', 'RB'), ('did', 'VBD'), (\"n't\", 'RB'), ('want', 'VB'), (',', ','), ('to', 'TO'), ('control', 'VB'), ('them', 'PRP'), ('.', '.'), ('They', 'PRP'), ('were', 'VBD'), ('yelling', 'VBG'), ('and', 'CC'), ('fighting', 'VBG'), ('among', 'IN'), ('themselves', 'PRP'), ('and', 'CC'), ('it', 'PRP'), ('was', 'VBD'), ('impossible', 'JJ'), ('for', 'IN'), ('any', 'DT'), ('of', 'IN'), ('the', 'DT'), ('passengers', 'NNS'), ('to', 'TO'), ('concentrate', 'VB'), ('or', 'CC'), ('rest', 'VB'), ('.', '.'), ('He', 'PRP'), ('thought', 'VBD'), ('about', 'RB'), ('politely', 'RB'), ('tapping', 'VBG'), ('on', 'IN'), ('the', 'DT'), ('parents', 'NNS'), (\"'\", 'POS'), ('shoulders', 'NNS'), ('and', 'CC'), ('asking', 'VBG'), ('them', 'PRP'), ('to', 'TO'), ('try', 'VB'), ('and', 'CC'), ('get', 'VB'), ('their', 'PRP$'), ('kids', 'NNS'), ('under', 'IN'), ('a', 'DT'), ('bit', 'NN'), ('more', 'RBR'), ('control', 'NN'), (',', ','), ('but', 'CC'), ('before', 'IN'), ('he', 'PRP'), ('did', 'VBD'), ('he', 'PRP'), ('came', 'VBD'), ('up', 'RP'), ('with', 'IN'), ('a', 'DT'), ('better', 'JJR'), ('idea', 'NN'), ('.', '.'), ('Sure', 'JJ'), (',', ','), ('it', 'PRP'), ('was', 'VBD'), ('a', 'DT'), ('bit', 'NN'), ('sinister', 'NN'), (',', ','), ('and', 'CC'), ('he', 'PRP'), (\"'d\", 'MD'), ('probably', 'RB'), ('end', 'VB'), ('p', 'NN'), ('in', 'IN'), ('a', 'DT'), ('lot', 'NN'), ('of', 'IN'), ('trouble', 'NN'), (',', ','), ('but', 'CC'), ('he', 'PRP'), ('really', 'RB'), ('did', 'VBD'), (\"n't\", 'RB'), ('care', 'VB'), ('at', 'IN'), ('that', 'DT'), ('point', 'NN'), ('.', '.')]\n"
          ]
        }
      ]
    },
    {
      "cell_type": "markdown",
      "source": [
        "Results"
      ],
      "metadata": {
        "id": "tw9hzA9jmkQC"
      }
    },
    {
      "cell_type": "code",
      "source": [
        "print(\"Original document:\", document)\n",
        "print(\"Tokenization:\", tokens)\n",
        "print(\"POS Tagging:\", pos_tags)\n",
        "print(\"Filtered tokens (after stopwords removal):\", filtered_tokens)\n",
        "print(\"Stemmed tokens:\", stemmed_tokens)\n",
        "print(\"Lemmatized tokens:\", lemmatized_tokens)"
      ],
      "metadata": {
        "colab": {
          "base_uri": "https://localhost:8080/"
        },
        "id": "-aZ6Oa62mbO8",
        "outputId": "92e26a36-ed7f-49c4-ebdd-d86bb48fa20f"
      },
      "execution_count": 12,
      "outputs": [
        {
          "output_type": "stream",
          "name": "stdout",
          "text": [
            "Original document: The kids were loud. They were way too loud for Jerry, especially since this was a four-hour flight. The parents didn't seem to be able, or simply didn't want, to control them. They were yelling and fighting among themselves and it was impossible for any of the passengers to concentrate or rest. He thought about politely tapping on the parents' shoulders and asking them to try and get their kids under a bit more control, but before he did he came up with a better idea. Sure, it was a bit sinister, and he'd probably end p in a lot of trouble, but he really didn't care at that point.\n",
            "Tokenization: ['The', 'kids', 'were', 'loud', '.', 'They', 'were', 'way', 'too', 'loud', 'for', 'Jerry', ',', 'especially', 'since', 'this', 'was', 'a', 'four-hour', 'flight', '.', 'The', 'parents', 'did', \"n't\", 'seem', 'to', 'be', 'able', ',', 'or', 'simply', 'did', \"n't\", 'want', ',', 'to', 'control', 'them', '.', 'They', 'were', 'yelling', 'and', 'fighting', 'among', 'themselves', 'and', 'it', 'was', 'impossible', 'for', 'any', 'of', 'the', 'passengers', 'to', 'concentrate', 'or', 'rest', '.', 'He', 'thought', 'about', 'politely', 'tapping', 'on', 'the', 'parents', \"'\", 'shoulders', 'and', 'asking', 'them', 'to', 'try', 'and', 'get', 'their', 'kids', 'under', 'a', 'bit', 'more', 'control', ',', 'but', 'before', 'he', 'did', 'he', 'came', 'up', 'with', 'a', 'better', 'idea', '.', 'Sure', ',', 'it', 'was', 'a', 'bit', 'sinister', ',', 'and', 'he', \"'d\", 'probably', 'end', 'p', 'in', 'a', 'lot', 'of', 'trouble', ',', 'but', 'he', 'really', 'did', \"n't\", 'care', 'at', 'that', 'point', '.']\n",
            "POS Tagging: [('The', 'DT'), ('kids', 'NNS'), ('were', 'VBD'), ('loud', 'JJ'), ('.', '.'), ('They', 'PRP'), ('were', 'VBD'), ('way', 'NN'), ('too', 'RB'), ('loud', 'JJ'), ('for', 'IN'), ('Jerry', 'NNP'), (',', ','), ('especially', 'RB'), ('since', 'IN'), ('this', 'DT'), ('was', 'VBD'), ('a', 'DT'), ('four-hour', 'JJ'), ('flight', 'NN'), ('.', '.'), ('The', 'DT'), ('parents', 'NNS'), ('did', 'VBD'), (\"n't\", 'RB'), ('seem', 'VB'), ('to', 'TO'), ('be', 'VB'), ('able', 'JJ'), (',', ','), ('or', 'CC'), ('simply', 'RB'), ('did', 'VBD'), (\"n't\", 'RB'), ('want', 'VB'), (',', ','), ('to', 'TO'), ('control', 'VB'), ('them', 'PRP'), ('.', '.'), ('They', 'PRP'), ('were', 'VBD'), ('yelling', 'VBG'), ('and', 'CC'), ('fighting', 'VBG'), ('among', 'IN'), ('themselves', 'PRP'), ('and', 'CC'), ('it', 'PRP'), ('was', 'VBD'), ('impossible', 'JJ'), ('for', 'IN'), ('any', 'DT'), ('of', 'IN'), ('the', 'DT'), ('passengers', 'NNS'), ('to', 'TO'), ('concentrate', 'VB'), ('or', 'CC'), ('rest', 'VB'), ('.', '.'), ('He', 'PRP'), ('thought', 'VBD'), ('about', 'RB'), ('politely', 'RB'), ('tapping', 'VBG'), ('on', 'IN'), ('the', 'DT'), ('parents', 'NNS'), (\"'\", 'POS'), ('shoulders', 'NNS'), ('and', 'CC'), ('asking', 'VBG'), ('them', 'PRP'), ('to', 'TO'), ('try', 'VB'), ('and', 'CC'), ('get', 'VB'), ('their', 'PRP$'), ('kids', 'NNS'), ('under', 'IN'), ('a', 'DT'), ('bit', 'NN'), ('more', 'RBR'), ('control', 'NN'), (',', ','), ('but', 'CC'), ('before', 'IN'), ('he', 'PRP'), ('did', 'VBD'), ('he', 'PRP'), ('came', 'VBD'), ('up', 'RP'), ('with', 'IN'), ('a', 'DT'), ('better', 'JJR'), ('idea', 'NN'), ('.', '.'), ('Sure', 'JJ'), (',', ','), ('it', 'PRP'), ('was', 'VBD'), ('a', 'DT'), ('bit', 'NN'), ('sinister', 'NN'), (',', ','), ('and', 'CC'), ('he', 'PRP'), (\"'d\", 'MD'), ('probably', 'RB'), ('end', 'VB'), ('p', 'NN'), ('in', 'IN'), ('a', 'DT'), ('lot', 'NN'), ('of', 'IN'), ('trouble', 'NN'), (',', ','), ('but', 'CC'), ('he', 'PRP'), ('really', 'RB'), ('did', 'VBD'), (\"n't\", 'RB'), ('care', 'VB'), ('at', 'IN'), ('that', 'DT'), ('point', 'NN'), ('.', '.')]\n",
            "Filtered tokens (after stopwords removal): ['kids', 'loud', '.', 'way', 'loud', 'Jerry', ',', 'especially', 'since', 'four-hour', 'flight', '.', 'parents', \"n't\", 'seem', 'able', ',', 'simply', \"n't\", 'want', ',', 'control', '.', 'yelling', 'fighting', 'among', 'impossible', 'passengers', 'concentrate', 'rest', '.', 'thought', 'politely', 'tapping', 'parents', \"'\", 'shoulders', 'asking', 'try', 'get', 'kids', 'bit', 'control', ',', 'came', 'better', 'idea', '.', 'Sure', ',', 'bit', 'sinister', ',', \"'d\", 'probably', 'end', 'p', 'lot', 'trouble', ',', 'really', \"n't\", 'care', 'point', '.']\n",
            "Stemmed tokens: ['kid', 'loud', '.', 'way', 'loud', 'jerri', ',', 'especi', 'sinc', 'four-hour', 'flight', '.', 'parent', \"n't\", 'seem', 'abl', ',', 'simpli', \"n't\", 'want', ',', 'control', '.', 'yell', 'fight', 'among', 'imposs', 'passeng', 'concentr', 'rest', '.', 'thought', 'polit', 'tap', 'parent', \"'\", 'shoulder', 'ask', 'tri', 'get', 'kid', 'bit', 'control', ',', 'came', 'better', 'idea', '.', 'sure', ',', 'bit', 'sinist', ',', \"'d\", 'probabl', 'end', 'p', 'lot', 'troubl', ',', 'realli', \"n't\", 'care', 'point', '.']\n",
            "Lemmatized tokens: ['kid', 'loud', '.', 'way', 'loud', 'Jerry', ',', 'especially', 'since', 'four-hour', 'flight', '.', 'parent', \"n't\", 'seem', 'able', ',', 'simply', \"n't\", 'want', ',', 'control', '.', 'yelling', 'fighting', 'among', 'impossible', 'passenger', 'concentrate', 'rest', '.', 'thought', 'politely', 'tapping', 'parent', \"'\", 'shoulder', 'asking', 'try', 'get', 'kid', 'bit', 'control', ',', 'came', 'better', 'idea', '.', 'Sure', ',', 'bit', 'sinister', ',', \"'d\", 'probably', 'end', 'p', 'lot', 'trouble', ',', 'really', \"n't\", 'care', 'point', '.']\n"
          ]
        }
      ]
    },
    {
      "cell_type": "markdown",
      "source": [
        "TF-IDF Representation"
      ],
      "metadata": {
        "id": "txPDkLR8mpJi"
      }
    },
    {
      "cell_type": "code",
      "source": [
        "tfidf_vectorizer = TfidfVectorizer()\n",
        "tfidf_representation = tfidf_vectorizer.fit_transform([document])\n",
        "print(\"TF-IDF Representation:\", tfidf_representation)"
      ],
      "metadata": {
        "colab": {
          "base_uri": "https://localhost:8080/"
        },
        "id": "kVt2Wqq4mmLP",
        "outputId": "0d20c1fc-9195-454d-f8a4-26b04bfb4874"
      },
      "execution_count": 14,
      "outputs": [
        {
          "output_type": "stream",
          "name": "stdout",
          "text": [
            "TF-IDF Representation:   (0, 41)\t0.06884283908215143\n",
            "  (0, 53)\t0.06884283908215143\n",
            "  (0, 6)\t0.06884283908215143\n",
            "  (0, 13)\t0.06884283908215143\n",
            "  (0, 44)\t0.06884283908215143\n",
            "  (0, 63)\t0.06884283908215143\n",
            "  (0, 33)\t0.06884283908215143\n",
            "  (0, 29)\t0.06884283908215143\n",
            "  (0, 18)\t0.06884283908215143\n",
            "  (0, 43)\t0.06884283908215143\n",
            "  (0, 50)\t0.06884283908215143\n",
            "  (0, 51)\t0.06884283908215143\n",
            "  (0, 27)\t0.06884283908215143\n",
            "  (0, 9)\t0.06884283908215143\n",
            "  (0, 71)\t0.06884283908215143\n",
            "  (0, 66)\t0.06884283908215143\n",
            "  (0, 12)\t0.06884283908215143\n",
            "  (0, 16)\t0.06884283908215143\n",
            "  (0, 8)\t0.06884283908215143\n",
            "  (0, 11)\t0.13768567816430285\n",
            "  (0, 35)\t0.06884283908215143\n",
            "  (0, 10)\t0.13768567816430285\n",
            "  (0, 65)\t0.06884283908215143\n",
            "  (0, 55)\t0.06884283908215143\n",
            "  (0, 24)\t0.06884283908215143\n",
            "  :\t:\n",
            "  (0, 67)\t0.06884283908215143\n",
            "  (0, 48)\t0.06884283908215143\n",
            "  (0, 38)\t0.13768567816430285\n",
            "  (0, 0)\t0.06884283908215143\n",
            "  (0, 7)\t0.06884283908215143\n",
            "  (0, 61)\t0.2753713563286057\n",
            "  (0, 46)\t0.06884283908215143\n",
            "  (0, 17)\t0.20652851724645427\n",
            "  (0, 39)\t0.13768567816430285\n",
            "  (0, 21)\t0.06884283908215143\n",
            "  (0, 26)\t0.06884283908215143\n",
            "  (0, 23)\t0.06884283908215143\n",
            "  (0, 68)\t0.20652851724645427\n",
            "  (0, 59)\t0.06884283908215143\n",
            "  (0, 49)\t0.06884283908215143\n",
            "  (0, 19)\t0.06884283908215143\n",
            "  (0, 31)\t0.06884283908215143\n",
            "  (0, 22)\t0.13768567816430285\n",
            "  (0, 62)\t0.06884283908215143\n",
            "  (0, 69)\t0.06884283908215143\n",
            "  (0, 58)\t0.13768567816430285\n",
            "  (0, 34)\t0.13768567816430285\n",
            "  (0, 70)\t0.20652851724645427\n",
            "  (0, 32)\t0.13768567816430285\n",
            "  (0, 54)\t0.2753713563286057\n"
          ]
        }
      ]
    },
    {
      "cell_type": "code",
      "source": [],
      "metadata": {
        "id": "zZ8J5-qqnLZ7"
      },
      "execution_count": null,
      "outputs": []
    }
  ]
}